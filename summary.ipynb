{
 "cells": [
  {
   "cell_type": "code",
   "execution_count": 1,
   "id": "1047274e-cbd2-4309-aec3-aef656cc8bfd",
   "metadata": {
    "execution": {
     "iopub.execute_input": "2024-09-13T08:14:27.957533Z",
     "iopub.status.busy": "2024-09-13T08:14:27.957283Z",
     "iopub.status.idle": "2024-09-13T08:14:34.489845Z",
     "shell.execute_reply": "2024-09-13T08:14:34.486442Z",
     "shell.execute_reply.started": "2024-09-13T08:14:27.957506Z"
    }
   },
   "outputs": [
    {
     "name": "stdout",
     "output_type": "stream",
     "text": [
      "Defaulting to user installation because normal site-packages is not writeable\n",
      "\u001b[33mWARNING: Skipping /usr/lib/python3.12/dist-packages/jupyter_events-0.9.0.dist-info due to invalid metadata entry 'name'\u001b[0m\u001b[33m\n",
      "\u001b[0mRequirement already satisfied: transformers in /home/dnn/.local/lib/python3.12/site-packages (4.44.2)\n",
      "Requirement already satisfied: datasets in /home/dnn/.local/lib/python3.12/site-packages (3.0.0)\n",
      "Requirement already satisfied: torch in /home/dnn/.local/lib/python3.12/site-packages (2.4.0)\n",
      "Requirement already satisfied: filelock in /home/dnn/.local/lib/python3.12/site-packages (from transformers) (3.15.4)\n",
      "Requirement already satisfied: huggingface-hub<1.0,>=0.23.2 in /home/dnn/.local/lib/python3.12/site-packages (from transformers) (0.24.6)\n",
      "Requirement already satisfied: numpy>=1.17 in /usr/lib/python3/dist-packages (from transformers) (1.26.4)\n",
      "Requirement already satisfied: packaging>=20.0 in /usr/lib/python3/dist-packages (from transformers) (24.0)\n",
      "Requirement already satisfied: pyyaml>=5.1 in /usr/lib/python3/dist-packages (from transformers) (6.0.1)\n",
      "Requirement already satisfied: regex!=2019.12.17 in /home/dnn/.local/lib/python3.12/site-packages (from transformers) (2024.7.24)\n",
      "Requirement already satisfied: requests in /home/dnn/.local/lib/python3.12/site-packages (from transformers) (2.32.3)\n",
      "Requirement already satisfied: safetensors>=0.4.1 in /home/dnn/.local/lib/python3.12/site-packages (from transformers) (0.4.4)\n",
      "Requirement already satisfied: tokenizers<0.20,>=0.19 in /home/dnn/.local/lib/python3.12/site-packages (from transformers) (0.19.1)\n",
      "Requirement already satisfied: tqdm>=4.27 in /home/dnn/.local/lib/python3.12/site-packages (from transformers) (4.66.5)\n",
      "Requirement already satisfied: pyarrow>=15.0.0 in /home/dnn/.local/lib/python3.12/site-packages (from datasets) (17.0.0)\n",
      "Requirement already satisfied: dill<0.3.9,>=0.3.0 in /home/dnn/.local/lib/python3.12/site-packages (from datasets) (0.3.8)\n",
      "Requirement already satisfied: pandas in /home/dnn/.local/lib/python3.12/site-packages (from datasets) (2.2.2)\n",
      "Requirement already satisfied: xxhash in /home/dnn/.local/lib/python3.12/site-packages (from datasets) (3.5.0)\n",
      "Requirement already satisfied: multiprocess in /home/dnn/.local/lib/python3.12/site-packages (from datasets) (0.70.16)\n",
      "Requirement already satisfied: fsspec<=2024.6.1,>=2023.1.0 in /home/dnn/.local/lib/python3.12/site-packages (from fsspec[http]<=2024.6.1,>=2023.1.0->datasets) (2024.6.1)\n",
      "Requirement already satisfied: aiohttp in /home/dnn/.local/lib/python3.12/site-packages (from datasets) (3.10.5)\n",
      "Requirement already satisfied: typing-extensions>=4.8.0 in /home/dnn/.local/lib/python3.12/site-packages (from torch) (4.12.2)\n",
      "Requirement already satisfied: sympy in /home/dnn/.local/lib/python3.12/site-packages (from torch) (1.13.1)\n",
      "Requirement already satisfied: networkx in /usr/local/lib/python3.12/dist-packages (from torch) (3.3)\n",
      "Requirement already satisfied: jinja2 in /usr/lib/python3/dist-packages (from torch) (3.1.2)\n",
      "Requirement already satisfied: setuptools in /usr/lib/python3/dist-packages (from torch) (68.1.2)\n",
      "Requirement already satisfied: nvidia-cuda-nvrtc-cu12==12.1.105 in /home/dnn/.local/lib/python3.12/site-packages (from torch) (12.1.105)\n",
      "Requirement already satisfied: nvidia-cuda-runtime-cu12==12.1.105 in /home/dnn/.local/lib/python3.12/site-packages (from torch) (12.1.105)\n",
      "Requirement already satisfied: nvidia-cuda-cupti-cu12==12.1.105 in /home/dnn/.local/lib/python3.12/site-packages (from torch) (12.1.105)\n",
      "Requirement already satisfied: nvidia-cudnn-cu12==9.1.0.70 in /home/dnn/.local/lib/python3.12/site-packages (from torch) (9.1.0.70)\n",
      "Requirement already satisfied: nvidia-cublas-cu12==12.1.3.1 in /home/dnn/.local/lib/python3.12/site-packages (from torch) (12.1.3.1)\n",
      "Requirement already satisfied: nvidia-cufft-cu12==11.0.2.54 in /home/dnn/.local/lib/python3.12/site-packages (from torch) (11.0.2.54)\n",
      "Requirement already satisfied: nvidia-curand-cu12==10.3.2.106 in /home/dnn/.local/lib/python3.12/site-packages (from torch) (10.3.2.106)\n",
      "Requirement already satisfied: nvidia-cusolver-cu12==11.4.5.107 in /home/dnn/.local/lib/python3.12/site-packages (from torch) (11.4.5.107)\n",
      "Requirement already satisfied: nvidia-cusparse-cu12==12.1.0.106 in /home/dnn/.local/lib/python3.12/site-packages (from torch) (12.1.0.106)\n",
      "Requirement already satisfied: nvidia-nccl-cu12==2.20.5 in /home/dnn/.local/lib/python3.12/site-packages (from torch) (2.20.5)\n",
      "Requirement already satisfied: nvidia-nvtx-cu12==12.1.105 in /home/dnn/.local/lib/python3.12/site-packages (from torch) (12.1.105)\n",
      "Requirement already satisfied: triton==3.0.0 in /home/dnn/.local/lib/python3.12/site-packages (from torch) (3.0.0)\n",
      "Requirement already satisfied: nvidia-nvjitlink-cu12 in /home/dnn/.local/lib/python3.12/site-packages (from nvidia-cusolver-cu12==11.4.5.107->torch) (12.6.20)\n",
      "Requirement already satisfied: aiohappyeyeballs>=2.3.0 in /home/dnn/.local/lib/python3.12/site-packages (from aiohttp->datasets) (2.4.0)\n",
      "Requirement already satisfied: aiosignal>=1.1.2 in /home/dnn/.local/lib/python3.12/site-packages (from aiohttp->datasets) (1.3.1)\n",
      "Requirement already satisfied: attrs>=17.3.0 in /usr/lib/python3/dist-packages (from aiohttp->datasets) (23.2.0)\n",
      "Requirement already satisfied: frozenlist>=1.1.1 in /home/dnn/.local/lib/python3.12/site-packages (from aiohttp->datasets) (1.4.1)\n",
      "Requirement already satisfied: multidict<7.0,>=4.5 in /home/dnn/.local/lib/python3.12/site-packages (from aiohttp->datasets) (6.0.5)\n",
      "Requirement already satisfied: yarl<2.0,>=1.0 in /home/dnn/.local/lib/python3.12/site-packages (from aiohttp->datasets) (1.9.7)\n",
      "Requirement already satisfied: charset-normalizer<4,>=2 in /home/dnn/.local/lib/python3.12/site-packages (from requests->transformers) (3.3.2)\n",
      "Requirement already satisfied: idna<4,>=2.5 in /usr/lib/python3/dist-packages (from requests->transformers) (3.6)\n",
      "Requirement already satisfied: urllib3<3,>=1.21.1 in /home/dnn/.local/lib/python3.12/site-packages (from requests->transformers) (2.2.3)\n",
      "Requirement already satisfied: certifi>=2017.4.17 in /usr/lib/python3/dist-packages (from requests->transformers) (2023.11.17)\n",
      "Requirement already satisfied: python-dateutil>=2.8.2 in /usr/lib/python3/dist-packages (from pandas->datasets) (2.8.2)\n",
      "Requirement already satisfied: pytz>=2020.1 in /usr/lib/python3/dist-packages (from pandas->datasets) (2024.1)\n",
      "Requirement already satisfied: tzdata>=2022.7 in /home/dnn/.local/lib/python3.12/site-packages (from pandas->datasets) (2024.1)\n",
      "Requirement already satisfied: mpmath<1.4,>=1.1.0 in /home/dnn/.local/lib/python3.12/site-packages (from sympy->torch) (1.3.0)\n",
      "\u001b[33mWARNING: Skipping /usr/lib/python3.12/dist-packages/jupyter_events-0.9.0.dist-info due to invalid metadata entry 'name'\u001b[0m\u001b[33m\n",
      "\u001b[0m"
     ]
    }
   ],
   "source": [
    "!pip install transformers datasets torch\n"
   ]
  },
  {
   "cell_type": "code",
   "execution_count": 2,
   "id": "aacb9897-197e-41ab-a1f5-3fcde7ae5805",
   "metadata": {
    "execution": {
     "iopub.execute_input": "2024-09-13T08:14:36.028310Z",
     "iopub.status.busy": "2024-09-13T08:14:36.027973Z",
     "iopub.status.idle": "2024-09-13T08:14:46.118326Z",
     "shell.execute_reply": "2024-09-13T08:14:46.116534Z",
     "shell.execute_reply.started": "2024-09-13T08:14:36.028274Z"
    }
   },
   "outputs": [
    {
     "name": "stderr",
     "output_type": "stream",
     "text": [
      "2024-09-13 13:44:40.875302: E external/local_xla/xla/stream_executor/cuda/cuda_fft.cc:485] Unable to register cuFFT factory: Attempting to register factory for plugin cuFFT when one has already been registered\n",
      "2024-09-13 13:44:40.911479: E external/local_xla/xla/stream_executor/cuda/cuda_dnn.cc:8454] Unable to register cuDNN factory: Attempting to register factory for plugin cuDNN when one has already been registered\n",
      "2024-09-13 13:44:40.921990: E external/local_xla/xla/stream_executor/cuda/cuda_blas.cc:1452] Unable to register cuBLAS factory: Attempting to register factory for plugin cuBLAS when one has already been registered\n",
      "2024-09-13 13:44:40.943110: I tensorflow/core/platform/cpu_feature_guard.cc:210] This TensorFlow binary is optimized to use available CPU instructions in performance-critical operations.\n",
      "To enable the following instructions: AVX2 FMA, in other operations, rebuild TensorFlow with the appropriate compiler flags.\n",
      "2024-09-13 13:44:42.929429: W tensorflow/compiler/tf2tensorrt/utils/py_utils.cc:38] TF-TRT Warning: Could not find TensorRT\n"
     ]
    }
   ],
   "source": [
    "import torch\n",
    "from transformers import DistilBertTokenizer, DistilBertForQuestionAnswering, Trainer, TrainingArguments\n",
    "from datasets import Dataset\n",
    "import pandas as pd\n",
    "from torch.utils.data import Dataset as TorchDataset"
   ]
  },
  {
   "cell_type": "code",
   "execution_count": 3,
   "id": "f00c4f53-cd17-43e7-88f4-f393d2404bc5",
   "metadata": {
    "execution": {
     "iopub.execute_input": "2024-09-13T08:14:46.120047Z",
     "iopub.status.busy": "2024-09-13T08:14:46.119464Z",
     "iopub.status.idle": "2024-09-13T08:14:46.166380Z",
     "shell.execute_reply": "2024-09-13T08:14:46.165408Z",
     "shell.execute_reply.started": "2024-09-13T08:14:46.120017Z"
    }
   },
   "outputs": [],
   "source": [
    " # Load your custom dataset from CSV\n",
    "df = pd.read_csv(\"/home/dnn/Storage8TB/pythonCodeArea/srijita/Text/summary.csv\")\n",
    "dataset = Dataset.from_pandas(df)\n"
   ]
  },
  {
   "cell_type": "code",
   "execution_count": 4,
   "id": "05d5dd37-6c3e-44ac-bed1-9324ff9cd4b1",
   "metadata": {
    "execution": {
     "iopub.execute_input": "2024-09-13T08:14:46.173001Z",
     "iopub.status.busy": "2024-09-13T08:14:46.170431Z",
     "iopub.status.idle": "2024-09-13T08:14:46.202682Z",
     "shell.execute_reply": "2024-09-13T08:14:46.199619Z",
     "shell.execute_reply.started": "2024-09-13T08:14:46.172957Z"
    }
   },
   "outputs": [
    {
     "name": "stdout",
     "output_type": "stream",
     "text": [
      "DatasetDict({\n",
      "    train: Dataset({\n",
      "        features: ['Paragraph', 'Summary'],\n",
      "        num_rows: 48\n",
      "    })\n",
      "    test: Dataset({\n",
      "        features: ['Paragraph', 'Summary'],\n",
      "        num_rows: 6\n",
      "    })\n",
      "    validation: Dataset({\n",
      "        features: ['Paragraph', 'Summary'],\n",
      "        num_rows: 6\n",
      "    })\n",
      "})\n"
     ]
    }
   ],
   "source": [
    "from datasets import Dataset, DatasetDict\n",
    "# Split the dataset into train and test (80% train, 20% test)\n",
    "train_test_split = dataset.train_test_split(test_size=0.2)\n",
    "\n",
    "# Further split the test set into validation and test (50% of the test set for validation)\n",
    "test_valid_split = train_test_split['test'].train_test_split(test_size=0.5)\n",
    "\n",
    "# Combine the train, test, and validation splits into a DatasetDict\n",
    "text = DatasetDict({\n",
    "    'train': train_test_split['train'],\n",
    "    'test': test_valid_split['test'],\n",
    "    'validation': test_valid_split['train']  # This part is validation\n",
    "})\n",
    "\n",
    "# Verify the structure of the split\n",
    "print(text)"
   ]
  },
  {
   "cell_type": "code",
   "execution_count": 5,
   "id": "bac9b816-c217-412c-a92f-318f489ff5c2",
   "metadata": {
    "execution": {
     "iopub.execute_input": "2024-09-13T08:14:46.208751Z",
     "iopub.status.busy": "2024-09-13T08:14:46.208238Z",
     "iopub.status.idle": "2024-09-13T08:14:46.220690Z",
     "shell.execute_reply": "2024-09-13T08:14:46.218947Z",
     "shell.execute_reply.started": "2024-09-13T08:14:46.208716Z"
    }
   },
   "outputs": [
    {
     "data": {
      "text/plain": [
       "{'Paragraph': 'The global spread of smartphones has improved access to the internet, transforming industries such as banking and retail, but also raising concerns about digital addiction and data security.',\n",
       " 'Summary': 'Smartphones have enhanced internet access, boosting industries but creating issues like addiction and security risks.'}"
      ]
     },
     "execution_count": 5,
     "metadata": {},
     "output_type": "execute_result"
    }
   ],
   "source": [
    "text['train'][0]"
   ]
  },
  {
   "cell_type": "code",
   "execution_count": 6,
   "id": "528e5adf-23c6-4007-8578-e2915ecc56d1",
   "metadata": {
    "execution": {
     "iopub.execute_input": "2024-09-13T08:14:46.222779Z",
     "iopub.status.busy": "2024-09-13T08:14:46.222250Z",
     "iopub.status.idle": "2024-09-13T08:14:47.816365Z",
     "shell.execute_reply": "2024-09-13T08:14:47.815630Z",
     "shell.execute_reply.started": "2024-09-13T08:14:46.222745Z"
    }
   },
   "outputs": [
    {
     "data": {
      "text/plain": [
       "array([[<AxesSubplot: title={'center': 'Paragraph Length'}>,\n",
       "        <AxesSubplot: title={'center': 'Summary Length'}>]], dtype=object)"
      ]
     },
     "execution_count": 6,
     "metadata": {},
     "output_type": "execute_result"
    },
    {
     "data": {
      "image/png": "[encoded data removed]",
      "text/plain": [
       "<Figure size 1500x500 with 2 Axes>"
      ]
     },
     "metadata": {},
     "output_type": "display_data"
    }
   ],
   "source": [
    "paragraph_len = [len(x['Paragraph'].split()) for x in text['train']]\n",
    "summary_len = [len(x['Summary'].split()) for x in text['train']]\n",
    "\n",
    "data = pd.DataFrame([paragraph_len, summary_len]).T\n",
    "data.columns = ['Paragraph Length', 'Summary Length']\n",
    "\n",
    "data.hist(figsize=(15,5))"
   ]
  },
  {
   "cell_type": "code",
   "execution_count": 7,
   "id": "cc03ace7-2d0a-402c-b713-124151e9c6e5",
   "metadata": {
    "execution": {
     "iopub.execute_input": "2024-09-13T08:14:47.817868Z",
     "iopub.status.busy": "2024-09-13T08:14:47.817241Z",
     "iopub.status.idle": "2024-09-13T08:14:47.827822Z",
     "shell.execute_reply": "2024-09-13T08:14:47.827144Z",
     "shell.execute_reply.started": "2024-09-13T08:14:47.817838Z"
    }
   },
   "outputs": [],
   "source": [
    "\n",
    "# Custom Dataset class to handle labels\n",
    "class CustomDataset(TorchDataset):\n",
    "    def __init__(self, encodings, summary_labels):\n",
    "        self.encodings = encodings\n",
    "        self.summary_labels = summary_labels\n",
    "\n",
    "    def __getitem__(self, idx):\n",
    "        item = {key: torch.tensor(self.encodings[key][idx]) for key in self.encodings}\n",
    "        item['labels'] = torch.tensor(self.summary_labels[idx])\n",
    "        return item\n",
    "\n",
    "    def __len__(self):\n",
    "        return len(self.encodings['input_ids'])"
   ]
  },
  {
   "cell_type": "code",
   "execution_count": 8,
   "id": "f0664c66-4e4c-4d91-b161-37c983e538af",
   "metadata": {
    "execution": {
     "iopub.execute_input": "2024-09-13T08:14:47.828782Z",
     "iopub.status.busy": "2024-09-13T08:14:47.828530Z",
     "iopub.status.idle": "2024-09-13T08:14:47.835576Z",
     "shell.execute_reply": "2024-09-13T08:14:47.834946Z",
     "shell.execute_reply.started": "2024-09-13T08:14:47.828764Z"
    }
   },
   "outputs": [],
   "source": [
    "# Custom Data Collator\n",
    "class CustomDataCollator:\n",
    "    def __init__(self, tokenizer):\n",
    "        self.tokenizer = tokenizer\n",
    "\n",
    "    def __call__(self, features):\n",
    "        batch = {key: torch.stack([f[key] for f in features]) for key in features[0].keys()}\n",
    "        return batch\n"
   ]
  },
  {
   "cell_type": "code",
   "execution_count": 9,
   "id": "bd5c2b73-6f84-40c3-9e98-ae22c8a3f864",
   "metadata": {
    "execution": {
     "iopub.execute_input": "2024-09-13T08:14:47.836623Z",
     "iopub.status.busy": "2024-09-13T08:14:47.836402Z",
     "iopub.status.idle": "2024-09-13T08:14:47.845683Z",
     "shell.execute_reply": "2024-09-13T08:14:47.843571Z",
     "shell.execute_reply.started": "2024-09-13T08:14:47.836603Z"
    }
   },
   "outputs": [],
   "source": [
    "# Load the model and tokenizer for BART\n",
    "def load_model_and_tokenizer():\n",
    "    model = BartForConditionalGeneration.from_pretrained(\"sshleifer/distilbart-cnn-12-6\")\n",
    "    tokenizer = BartTokenizer.from_pretrained(\"sshleifer/distilbart-cnn-12-6\")\n",
    "    if torch.cuda.is_available():\n",
    "        model = model.to(\"cuda\")\n",
    "    return model, tokenizer"
   ]
  },
  {
   "cell_type": "code",
   "execution_count": 10,
   "id": "ed83892c-3fcb-4ec2-a234-1405a4920df8",
   "metadata": {
    "execution": {
     "iopub.execute_input": "2024-09-13T08:14:47.850937Z",
     "iopub.status.busy": "2024-09-13T08:14:47.850683Z",
     "iopub.status.idle": "2024-09-13T08:14:47.865088Z",
     "shell.execute_reply": "2024-09-13T08:14:47.856827Z",
     "shell.execute_reply.started": "2024-09-13T08:14:47.850919Z"
    }
   },
   "outputs": [],
   "source": [
    "# Preprocess the dataset\n",
    "def preprocess_function(examples, tokenizer):\n",
    "    inputs = examples['Paragraph']\n",
    "    summaries = examples['Summary']\n",
    "    \n",
    "    model_inputs = tokenizer(inputs, max_length=256, truncation=True, padding=\"max_length\")\n",
    "    \n",
    "    with tokenizer.as_target_tokenizer():\n",
    "        summary_labels = tokenizer(summaries, max_length=128, truncation=True, padding=\"max_length\")\n",
    "\n",
    "    summary_labels['input_ids'] = [[-100 if token == tokenizer.pad_token_id else token for token in label] for label in summary_labels['input_ids']]\n",
    "\n",
    "    return {\n",
    "        'input_ids': model_inputs['input_ids'],\n",
    "        'attention_mask': model_inputs['attention_mask'],\n",
    "        'summary_labels': summary_labels['input_ids'],\n",
    "    }"
   ]
  },
  {
   "cell_type": "code",
   "execution_count": 11,
   "id": "154cdc4d-ac14-4475-b0a9-dcbb2bc7f895",
   "metadata": {
    "execution": {
     "iopub.execute_input": "2024-09-13T08:14:47.873965Z",
     "iopub.status.busy": "2024-09-13T08:14:47.871533Z",
     "iopub.status.idle": "2024-09-13T08:14:47.884427Z",
     "shell.execute_reply": "2024-09-13T08:14:47.883678Z",
     "shell.execute_reply.started": "2024-09-13T08:14:47.873937Z"
    }
   },
   "outputs": [],
   "source": [
    "# Train the model with user-defined parameters\n",
    "def train_model(model, tokenizer, train_dataset, valid_dataset, epochs, batch_size, learning_rate):\n",
    "    training_args = TrainingArguments(\n",
    "        output_dir=\"./results\",\n",
    "        evaluation_strategy=\"epoch\",\n",
    "        learning_rate=learning_rate,\n",
    "        per_device_train_batch_size=batch_size,\n",
    "        per_device_eval_batch_size=batch_size,\n",
    "        num_train_epochs=epochs,\n",
    "        weight_decay=0.01,\n",
    "        logging_dir='./logs',\n",
    "        logging_steps=10,\n",
    "    )\n",
    "\n",
    "    trainer = Trainer(\n",
    "        model=model,\n",
    "        args=training_args,\n",
    "        train_dataset=train_dataset,\n",
    "        eval_dataset=valid_dataset,\n",
    "        tokenizer=tokenizer,\n",
    "        data_collator=CustomDataCollator(tokenizer),\n",
    "    )\n",
    "\n",
    "    trainer.train()"
   ]
  },
  {
   "cell_type": "code",
   "execution_count": 12,
   "id": "287e6fff-4edf-4007-9067-18836bd6559b",
   "metadata": {
    "execution": {
     "iopub.execute_input": "2024-09-13T08:14:47.887333Z",
     "iopub.status.busy": "2024-09-13T08:14:47.885600Z",
     "iopub.status.idle": "2024-09-13T08:14:47.900902Z",
     "shell.execute_reply": "2024-09-13T08:14:47.899639Z",
     "shell.execute_reply.started": "2024-09-13T08:14:47.887301Z"
    }
   },
   "outputs": [],
   "source": [
    "# Function to generate summaries based on user input\n",
    "def generate_summary(text, model, tokenizer):\n",
    "    inputs = tokenizer(text, return_tensors=\"pt\", max_length=512, truncation=True)\n",
    "    \n",
    "    # Move inputs to GPU if available\n",
    "    if torch.cuda.is_available():\n",
    "        inputs = {key: value.to(\"cuda\") for key, value in inputs.items()}\n",
    "    \n",
    "    # Generate the summary\n",
    "    summary_ids = model.generate(\n",
    "        input_ids=inputs[\"input_ids\"], \n",
    "        max_new_tokens=64,  # Set the number of tokens you want to generate\n",
    "        num_beams=4, \n",
    "        early_stopping=True\n",
    "    )\n",
    "    summary = tokenizer.decode(summary_ids[0], skip_special_tokens=True)\n",
    "    \n",
    "    return summary"
   ]
  },
  {
   "cell_type": "code",
   "execution_count": 13,
   "id": "02bbaa73-7d3a-42b6-8b9f-3931303e3ebe",
   "metadata": {
    "execution": {
     "iopub.execute_input": "2024-09-13T08:14:47.906023Z",
     "iopub.status.busy": "2024-09-13T08:14:47.905728Z",
     "iopub.status.idle": "2024-09-13T08:14:55.615648Z",
     "shell.execute_reply": "2024-09-13T08:14:55.611645Z",
     "shell.execute_reply.started": "2024-09-13T08:14:47.905997Z"
    }
   },
   "outputs": [
    {
     "name": "stderr",
     "output_type": "stream",
     "text": [
      "/home/dnn/.local/lib/python3.12/site-packages/transformers/tokenization_utils_base.py:1601: FutureWarning: `clean_up_tokenization_spaces` was not set. It will be set to `True` by default. This behavior will be depracted in transformers v4.45, and will be then set to `False` by default. For more details check this issue: https://github.com/huggingface/transformers/issues/31884\n",
      "  warnings.warn(\n",
      "/home/dnn/.local/lib/python3.12/site-packages/torch/cuda/__init__.py:128: UserWarning: CUDA initialization: The NVIDIA driver on your system is too old (found version 11040). Please update your GPU driver by downloading and installing a new version from the URL: http://www.nvidia.com/Download/index.aspx Alternatively, go to: https://pytorch.org to install a PyTorch version that has been compiled with your version of the CUDA driver. (Triggered internally at ../c10/cuda/CUDAFunctions.cpp:108.)\n",
      "  return torch._C._cuda_getDeviceCount() > 0\n"
     ]
    },
    {
     "data": {
      "application/vnd.jupyter.widget-view+json": {
       "model_id": "56ca23d7ef714c0d9b91e0ec1cf3843e",
       "version_major": 2,
       "version_minor": 0
      },
      "text/plain": [
       "Map:   0%|          | 0/48 [00:00<?, ? examples/s]"
      ]
     },
     "metadata": {},
     "output_type": "display_data"
    },
    {
     "name": "stderr",
     "output_type": "stream",
     "text": [
      "/home/dnn/.local/lib/python3.12/site-packages/transformers/tokenization_utils_base.py:4126: UserWarning: `as_target_tokenizer` is deprecated and will be removed in v5 of Transformers. You can tokenize your labels by using the argument `text_target` of the regular `__call__` method (either in the same call as your input texts if you use the same keyword arguments, or in a separate call.\n",
      "  warnings.warn(\n"
     ]
    },
    {
     "data": {
      "application/vnd.jupyter.widget-view+json": {
       "model_id": "5564b7e244434b8185571a8fbf93590f",
       "version_major": 2,
       "version_minor": 0
      },
      "text/plain": [
       "Map:   0%|          | 0/12 [00:00<?, ? examples/s]"
      ]
     },
     "metadata": {},
     "output_type": "display_data"
    }
   ],
   "source": [
    "if __name__ == \"__main__\":\n",
    "    model, tokenizer = load_model_and_tokenizer()\n",
    "\n",
    "   \n",
    "    # Split into training and validation datasets (80/20 split)\n",
    "    train_test_split = dataset.train_test_split(test_size=0.2)\n",
    "    train_dataset = train_test_split['train']\n",
    "    valid_dataset = train_test_split['test']\n",
    "\n",
    "    # Preprocess dataset\n",
    "    processed_train_data = train_dataset.map(lambda x: preprocess_function(x, tokenizer), batched=True)\n",
    "    processed_valid_data = valid_dataset.map(lambda x: preprocess_function(x, tokenizer), batched=True)\n",
    "\n",
    "    # Create TorchDataset objects\n",
    "    train_torch_dataset = CustomDataset(\n",
    "        encodings={k: processed_train_data[k] for k in ['input_ids', 'attention_mask']},\n",
    "        summary_labels=processed_train_data['summary_labels'],\n",
    "    )\n",
    "    valid_torch_dataset = CustomDataset(\n",
    "        encodings={k: processed_valid_data[k] for k in ['input_ids', 'attention_mask']},\n",
    "        summary_labels=processed_valid_data['summary_labels'],\n",
    "    )\n",
    "\n",
    "   \n"
   ]
  },
  {
   "cell_type": "code",
   "execution_count": 14,
   "id": "d4d82dfd-4782-439d-b942-72be2e6ae13b",
   "metadata": {
    "execution": {
     "iopub.execute_input": "2024-09-13T08:14:55.617557Z",
     "iopub.status.busy": "2024-09-13T08:14:55.616876Z",
     "iopub.status.idle": "2024-09-13T10:31:01.042823Z",
     "shell.execute_reply": "2024-09-13T10:31:01.041548Z",
     "shell.execute_reply.started": "2024-09-13T08:14:55.617528Z"
    }
   },
   "outputs": [
    {
     "name": "stderr",
     "output_type": "stream",
     "text": [
      "/home/dnn/.local/lib/python3.12/site-packages/transformers/training_args.py:1525: FutureWarning: `evaluation_strategy` is deprecated and will be removed in version 4.46 of 🤗 Transformers. Use `eval_strategy` instead\n",
      "  warnings.warn(\n",
      "\u001b[34m\u001b[1mwandb\u001b[0m: \u001b[33mWARNING\u001b[0m The `run_name` is currently set to the same value as `TrainingArguments.output_dir`. If this was not intended, please specify a different run name by setting the `TrainingArguments.run_name` parameter.\n",
      "Failed to detect the name of this notebook, you can set it manually with the WANDB_NOTEBOOK_NAME environment variable to enable code saving.\n",
      "\u001b[34m\u001b[1mwandb\u001b[0m: Currently logged in as: \u001b[33msrijitaghoshhajra9\u001b[0m (\u001b[33msrijitaghoshhajra9-college-board\u001b[0m). Use \u001b[1m`wandb login --relogin`\u001b[0m to force relogin\n"
     ]
    },
    {
     "data": {
      "text/html": [
       "Tracking run with wandb version 0.17.8"
      ],
      "text/plain": [
       "<IPython.core.display.HTML object>"
      ]
     },
     "metadata": {},
     "output_type": "display_data"
    },
    {
     "data": {
      "text/html": [
       "Run data is saved locally in <code>/home/dnn/Storage8TB/pythonCodeArea/srijita/wandb/run-20240913_134500-tc6dxd70</code>"
      ],
      "text/plain": [
       "<IPython.core.display.HTML object>"
      ]
     },
     "metadata": {},
     "output_type": "display_data"
    },
    {
     "data": {
      "text/html": [
       "Syncing run <strong><a href='https://wandb.ai/srijitaghoshhajra9-college-board/huggingface/runs/tc6dxd70' target=\"_blank\">./results</a></strong> to <a href='https://wandb.ai/srijitaghoshhajra9-college-board/huggingface' target=\"_blank\">Weights & Biases</a> (<a href='https://wandb.me/run' target=\"_blank\">docs</a>)<br/>"
      ],
      "text/plain": [
       "<IPython.core.display.HTML object>"
      ]
     },
     "metadata": {},
     "output_type": "display_data"
    },
    {
     "data": {
      "text/html": [
       " View project at <a href='https://wandb.ai/srijitaghoshhajra9-college-board/huggingface' target=\"_blank\">https://wandb.ai/srijitaghoshhajra9-college-board/huggingface</a>"
      ],
      "text/plain": [
       "<IPython.core.display.HTML object>"
      ]
     },
     "metadata": {},
     "output_type": "display_data"
    },
    {
     "data": {
      "text/html": [
       " View run at <a href='https://wandb.ai/srijitaghoshhajra9-college-board/huggingface/runs/tc6dxd70' target=\"_blank\">https://wandb.ai/srijitaghoshhajra9-college-board/huggingface/runs/tc6dxd70</a>"
      ],
      "text/plain": [
       "<IPython.core.display.HTML object>"
      ]
     },
     "metadata": {},
     "output_type": "display_data"
    },
    {
     "data": {
      "text/html": [
       "\n",
       "    <div>\n",
       "      \n",
       "      <progress value='150' max='150' style='width:300px; height:20px; vertical-align: middle;'></progress>\n",
       "      [150/150 2:14:35, Epoch 50/50]\n",
       "    </div>\n",
       "    <table border=\"1\" class=\"dataframe\">\n",
       "  <thead>\n",
       " <tr style=\"text-align: left;\">\n",
       "      <th>Epoch</th>\n",
       "      <th>Training Loss</th>\n",
       "      <th>Validation Loss</th>\n",
       "    </tr>\n",
       "  </thead>\n",
       "  <tbody>\n",
       "    <tr>\n",
       "      <td>1</td>\n",
       "      <td>No log</td>\n",
       "      <td>1.865040</td>\n",
       "    </tr>\n",
       "    <tr>\n",
       "      <td>2</td>\n",
       "      <td>No log</td>\n",
       "      <td>1.594086</td>\n",
       "    </tr>\n",
       "    <tr>\n",
       "      <td>3</td>\n",
       "      <td>No log</td>\n",
       "      <td>1.486001</td>\n",
       "    </tr>\n",
       "    <tr>\n",
       "      <td>4</td>\n",
       "      <td>1.698000</td>\n",
       "      <td>1.304623</td>\n",
       "    </tr>\n",
       "    <tr>\n",
       "      <td>5</td>\n",
       "      <td>1.698000</td>\n",
       "      <td>1.295690</td>\n",
       "    </tr>\n",
       "    <tr>\n",
       "      <td>6</td>\n",
       "      <td>1.698000</td>\n",
       "      <td>1.274675</td>\n",
       "    </tr>\n",
       "    <tr>\n",
       "      <td>7</td>\n",
       "      <td>0.556700</td>\n",
       "      <td>1.344797</td>\n",
       "    </tr>\n",
       "    <tr>\n",
       "      <td>8</td>\n",
       "      <td>0.556700</td>\n",
       "      <td>1.486190</td>\n",
       "    </tr>\n",
       "    <tr>\n",
       "      <td>9</td>\n",
       "      <td>0.556700</td>\n",
       "      <td>1.617099</td>\n",
       "    </tr>\n",
       "    <tr>\n",
       "      <td>10</td>\n",
       "      <td>0.226000</td>\n",
       "      <td>1.699501</td>\n",
       "    </tr>\n",
       "    <tr>\n",
       "      <td>11</td>\n",
       "      <td>0.226000</td>\n",
       "      <td>1.787431</td>\n",
       "    </tr>\n",
       "    <tr>\n",
       "      <td>12</td>\n",
       "      <td>0.226000</td>\n",
       "      <td>1.818629</td>\n",
       "    </tr>\n",
       "    <tr>\n",
       "      <td>13</td>\n",
       "      <td>0.226000</td>\n",
       "      <td>1.789872</td>\n",
       "    </tr>\n",
       "    <tr>\n",
       "      <td>14</td>\n",
       "      <td>0.148100</td>\n",
       "      <td>1.851673</td>\n",
       "    </tr>\n",
       "    <tr>\n",
       "      <td>15</td>\n",
       "      <td>0.148100</td>\n",
       "      <td>1.943848</td>\n",
       "    </tr>\n",
       "    <tr>\n",
       "      <td>16</td>\n",
       "      <td>0.148100</td>\n",
       "      <td>1.975706</td>\n",
       "    </tr>\n",
       "    <tr>\n",
       "      <td>17</td>\n",
       "      <td>0.130000</td>\n",
       "      <td>2.014999</td>\n",
       "    </tr>\n",
       "    <tr>\n",
       "      <td>18</td>\n",
       "      <td>0.130000</td>\n",
       "      <td>2.036150</td>\n",
       "    </tr>\n",
       "    <tr>\n",
       "      <td>19</td>\n",
       "      <td>0.130000</td>\n",
       "      <td>2.042969</td>\n",
       "    </tr>\n",
       "    <tr>\n",
       "      <td>20</td>\n",
       "      <td>0.123900</td>\n",
       "      <td>2.072178</td>\n",
       "    </tr>\n",
       "    <tr>\n",
       "      <td>21</td>\n",
       "      <td>0.123900</td>\n",
       "      <td>2.096362</td>\n",
       "    </tr>\n",
       "    <tr>\n",
       "      <td>22</td>\n",
       "      <td>0.123900</td>\n",
       "      <td>2.081143</td>\n",
       "    </tr>\n",
       "    <tr>\n",
       "      <td>23</td>\n",
       "      <td>0.123900</td>\n",
       "      <td>2.016392</td>\n",
       "    </tr>\n",
       "    <tr>\n",
       "      <td>24</td>\n",
       "      <td>0.125100</td>\n",
       "      <td>1.989244</td>\n",
       "    </tr>\n",
       "    <tr>\n",
       "      <td>25</td>\n",
       "      <td>0.125100</td>\n",
       "      <td>1.988802</td>\n",
       "    </tr>\n",
       "    <tr>\n",
       "      <td>26</td>\n",
       "      <td>0.125100</td>\n",
       "      <td>1.994786</td>\n",
       "    </tr>\n",
       "    <tr>\n",
       "      <td>27</td>\n",
       "      <td>0.103700</td>\n",
       "      <td>2.001095</td>\n",
       "    </tr>\n",
       "    <tr>\n",
       "      <td>28</td>\n",
       "      <td>0.103700</td>\n",
       "      <td>2.010790</td>\n",
       "    </tr>\n",
       "    <tr>\n",
       "      <td>29</td>\n",
       "      <td>0.103700</td>\n",
       "      <td>2.020652</td>\n",
       "    </tr>\n",
       "    <tr>\n",
       "      <td>30</td>\n",
       "      <td>0.099800</td>\n",
       "      <td>2.013244</td>\n",
       "    </tr>\n",
       "    <tr>\n",
       "      <td>31</td>\n",
       "      <td>0.099800</td>\n",
       "      <td>2.000067</td>\n",
       "    </tr>\n",
       "    <tr>\n",
       "      <td>32</td>\n",
       "      <td>0.099800</td>\n",
       "      <td>2.001704</td>\n",
       "    </tr>\n",
       "    <tr>\n",
       "      <td>33</td>\n",
       "      <td>0.099800</td>\n",
       "      <td>1.999486</td>\n",
       "    </tr>\n",
       "    <tr>\n",
       "      <td>34</td>\n",
       "      <td>0.094800</td>\n",
       "      <td>2.024635</td>\n",
       "    </tr>\n",
       "    <tr>\n",
       "      <td>35</td>\n",
       "      <td>0.094800</td>\n",
       "      <td>2.022522</td>\n",
       "    </tr>\n",
       "    <tr>\n",
       "      <td>36</td>\n",
       "      <td>0.094800</td>\n",
       "      <td>2.007418</td>\n",
       "    </tr>\n",
       "    <tr>\n",
       "      <td>37</td>\n",
       "      <td>0.095300</td>\n",
       "      <td>2.017566</td>\n",
       "    </tr>\n",
       "    <tr>\n",
       "      <td>38</td>\n",
       "      <td>0.095300</td>\n",
       "      <td>2.040697</td>\n",
       "    </tr>\n",
       "    <tr>\n",
       "      <td>39</td>\n",
       "      <td>0.095300</td>\n",
       "      <td>2.058334</td>\n",
       "    </tr>\n",
       "    <tr>\n",
       "      <td>40</td>\n",
       "      <td>0.089200</td>\n",
       "      <td>2.072800</td>\n",
       "    </tr>\n",
       "    <tr>\n",
       "      <td>41</td>\n",
       "      <td>0.089200</td>\n",
       "      <td>2.081030</td>\n",
       "    </tr>\n",
       "    <tr>\n",
       "      <td>42</td>\n",
       "      <td>0.089200</td>\n",
       "      <td>2.078226</td>\n",
       "    </tr>\n",
       "    <tr>\n",
       "      <td>43</td>\n",
       "      <td>0.089200</td>\n",
       "      <td>2.074425</td>\n",
       "    </tr>\n",
       "    <tr>\n",
       "      <td>44</td>\n",
       "      <td>0.088100</td>\n",
       "      <td>2.068936</td>\n",
       "    </tr>\n",
       "    <tr>\n",
       "      <td>45</td>\n",
       "      <td>0.088100</td>\n",
       "      <td>2.067656</td>\n",
       "    </tr>\n",
       "    <tr>\n",
       "      <td>46</td>\n",
       "      <td>0.088100</td>\n",
       "      <td>2.070990</td>\n",
       "    </tr>\n",
       "    <tr>\n",
       "      <td>47</td>\n",
       "      <td>0.086900</td>\n",
       "      <td>2.072647</td>\n",
       "    </tr>\n",
       "    <tr>\n",
       "      <td>48</td>\n",
       "      <td>0.086900</td>\n",
       "      <td>2.071689</td>\n",
       "    </tr>\n",
       "    <tr>\n",
       "      <td>49</td>\n",
       "      <td>0.086900</td>\n",
       "      <td>2.070540</td>\n",
       "    </tr>\n",
       "    <tr>\n",
       "      <td>50</td>\n",
       "      <td>0.093800</td>\n",
       "      <td>2.070097</td>\n",
       "    </tr>\n",
       "  </tbody>\n",
       "</table><p>"
      ],
      "text/plain": [
       "<IPython.core.display.HTML object>"
      ]
     },
     "metadata": {},
     "output_type": "display_data"
    },
    {
     "name": "stderr",
     "output_type": "stream",
     "text": [
      "Some non-default generation parameters are set in the model config. These should go into a GenerationConfig file (https://huggingface.co/docs/transformers/generation_strategies#save-a-custom-decoding-strategy-with-your-model) instead. This warning will be raised to an exception in v4.41.\n",
      "Non-default generation parameters: {'max_length': 142, 'min_length': 56, 'early_stopping': True, 'num_beams': 4, 'length_penalty': 2.0, 'no_repeat_ngram_size': 3, 'forced_bos_token_id': 0, 'forced_eos_token_id': 2}\n"
     ]
    }
   ],
   "source": [
    " # User input for training parameters\n",
    "epochs = 50\n",
    "batch_size = 8\n",
    "learning_rate = 2e-5\n",
    "\n",
    "# Train the model based on user input\n",
    "train_model(model, tokenizer, train_torch_dataset, valid_torch_dataset, epochs, batch_size, learning_rate)"
   ]
  },
  {
   "cell_type": "code",
   "execution_count": 18,
   "id": "5be8f6c8-5fb5-4332-bcd3-ea5b6a2b3a60",
   "metadata": {
    "execution": {
     "iopub.execute_input": "2024-09-13T10:34:45.537196Z",
     "iopub.status.busy": "2024-09-13T10:34:45.536410Z",
     "iopub.status.idle": "2024-09-13T10:35:04.792635Z",
     "shell.execute_reply": "2024-09-13T10:35:04.792054Z",
     "shell.execute_reply.started": "2024-09-13T10:34:45.537159Z"
    }
   },
   "outputs": [
    {
     "name": "stdout",
     "output_type": "stream",
     "text": [
      "\n",
      "Generated Summary:\n",
      "Embroidery is my hobby and I spend some time on it every day. I love the sparrow but do not see it now-a-days on my verandah. I am very fond of making embroidery on my mother's sarees.\n"
     ]
    }
   ],
   "source": [
    "\n",
    "# Get a new text input from the user for summarization\n",
    "text = \"I find embroidery making very interesting. It is my hobby. I spend some time on it every day. It is very refreshing and relaxing for me to engage in my hobby.I play with designs and colours. I can use different types of cloth to make embroidery on. I can choose many different colours of thread to make embroidery with. The patters I choose are also varied. I have made embroidered apparel and have always been excited to make a new item. Embroidery making is however time-consuming.I have made many interesting items of embroidery. I have made a chocolate cake embroidery on a table cloth. It looks like a real birthday cake. I also embroidered sparrows on a stole. I love the sparrow but do not see it now-a-days on my verandah. My friends like my stole because they too miss the sparrow.I am very fond of making embroidery on my mother’s sarees. My mother buys sarees on which I embroider small flowers, leaves and butterflies. My mother loves to drape these sarees. Embroidery can make designs alive in a very beautiful and colourful way. A plain apparel can become a fashion garment if it is embroidered tastefully.\"\n",
    "\n",
    "# Generate the summary for the user-provided text\n",
    "summary = generate_summary(text, model, tokenizer)\n",
    "print(f\"\\nGenerated Summary:\\n{summary}\")\n"
   ]
  },
  {
   "cell_type": "code",
   "execution_count": 17,
   "id": "4bbe2ce5-34f9-416a-9f0d-949d7de26bac",
   "metadata": {
    "execution": {
     "iopub.execute_input": "2024-09-13T10:32:54.901435Z",
     "iopub.status.busy": "2024-09-13T10:32:54.901141Z",
     "iopub.status.idle": "2024-09-13T10:33:21.232892Z",
     "shell.execute_reply": "2024-09-13T10:33:21.232174Z",
     "shell.execute_reply.started": "2024-09-13T10:32:54.901412Z"
    }
   },
   "outputs": [
    {
     "name": "stdout",
     "output_type": "stream",
     "text": [
      "\n",
      "Generated Summary:\n",
      "The Eiffel Tower is 324 metres (1,063 ft) tall, about the same height as an 81-storey building, and is the tallest structure in Paris. It is now taller than the Chrysler Building in New York City by 5.2 metres (17 ft)\n"
     ]
    }
   ],
   "source": [
    "\n",
    "# Get a new text input from the user for summarization\n",
    "text = \"The tower is 324 metres (1,063 ft) tall, about the same height as an 81-storey building, and the tallest structure in Paris. Its base is square, measuring 125 metres (410 ft) on each side. During its construction, the Eiffel Tower surpassed the Washington Monument to become the tallest man-made structure in the world, a title it held for 41 years until the Chrysler Building in New York City was finished in 1930. It was the first structure to reach a height of 300 metres. Due to the addition of a broadcasting aerial at the top of the tower in 1957, it is now taller than the Chrysler Building by 5.2 metres (17 ft). Excluding transmitters, the Eiffel Tower is the second tallest free-standing structure in France after the Millau Viaduct.\"\n",
    "\n",
    "# Generate the summary for the user-provided text\n",
    "summary = generate_summary(text, model, tokenizer)\n",
    "print(f\"\\nGenerated Summary:\\n{summary}\")"
   ]
  },
  {
   "cell_type": "code",
   "execution_count": null,
   "id": "e46def66-4a92-40b4-9e5c-62e11cf2090e",
   "metadata": {},
   "outputs": [],
   "source": []
  }
 ],
 "metadata": {
  "kernelspec": {
   "display_name": "Python 3 (ipykernel)",
   "language": "python",
   "name": "python3"
  },
  "language_info": {
   "codemirror_mode": {
    "name": "ipython",
    "version": 3
   },
   "file_extension": ".py",
   "mimetype": "text/x-python",
   "name": "python",
   "nbconvert_exporter": "python",
   "pygments_lexer": "ipython3",
   "version": "3.12.3"
  }
 },
 "nbformat": 4,
 "nbformat_minor": 5
}
